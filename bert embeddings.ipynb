{
 "cells": [
  {
   "cell_type": "code",
   "execution_count": null,
   "id": "e3c33239",
   "metadata": {},
   "outputs": [],
   "source": [
    "import pandas as pd\n",
    "from transformers import BertTokenizer, BertModel\n",
    "import torch\n",
    "\n",
    "# Load the Excel file\n",
    "file_path =r\"C:\\Users\\Tapan\\Downloads\\training new.xlsx\" # Replace with the path to your Excel file\n",
    "df = pd.read_excel(file_path)\n",
    "\n",
    "# Load pre-trained BERT tokenizer and model\n",
    "tokenizer = BertTokenizer.from_pretrained('bert-base-uncased')\n",
    "model = BertModel.from_pretrained('bert-base-uncased')\n",
    "\n",
    "# Extract the 'input' column\n",
    "inputs = df['input'].astype(str).tolist()\n",
    "\n",
    "# Function to generate embeddings using BERT\n",
    "def get_bert_embeddings(text_list):\n",
    "    embeddings = []\n",
    "    for text in text_list:\n",
    "        inputs = tokenizer(text, return_tensors='pt', padding=True, truncation=True, max_length=512)\n",
    "        with torch.no_grad():\n",
    "            outputs = model(**inputs)\n",
    "        # Get the embedding of the [CLS] token (the first token)\n",
    "        cls_embedding = outputs.last_hidden_state[:, 0, :].numpy()\n",
    "        embeddings.append(cls_embedding.flatten())\n",
    "    return embeddings\n",
    "\n",
    "# Generate embeddings for the 'input' column\n",
    "embeddings = get_bert_embeddings(inputs)\n",
    "\n",
    "# Convert embeddings to a DataFrame\n",
    "embeddings_df = pd.DataFrame(embeddings)\n",
    "\n",
    "# Save the embeddings to an Excel file\n",
    "output_file_path = 'bert_embeddings.xlsx'\n",
    "embeddings_df.to_excel(output_file_path, index=False)\n",
    "\n",
    "print(f\"Embeddings saved to {output_file_path}\")"
   ]
  }
 ],
 "metadata": {
  "kernelspec": {
   "display_name": "Python 3 (ipykernel)",
   "language": "python",
   "name": "python3"
  },
  "language_info": {
   "codemirror_mode": {
    "name": "ipython",
    "version": 3
   },
   "file_extension": ".py",
   "mimetype": "text/x-python",
   "name": "python",
   "nbconvert_exporter": "python",
   "pygments_lexer": "ipython3",
   "version": "3.9.12"
  }
 },
 "nbformat": 4,
 "nbformat_minor": 5
}
