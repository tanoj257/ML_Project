{
 "cells": [
  {
   "cell_type": "code",
   "execution_count": null,
   "id": "aef2a84f-f98b-4d84-848b-e73af1cd0c6c",
   "metadata": {},
   "outputs": [],
   "source": [
    "import pandas as pd\n",
    "import torch\n",
    "from transformers import RobertaTokenizer, RobertaModel\n",
    "\n",
    "# Load the dataset\n",
    "file_path = \"C:/Users/DELL/OneDrive/Desktop/ml project/training new.xlsx\"  # Change this to your actual file path\n",
    "data = pd.read_excel(file_path)\n",
    "\n",
    "# Initialize the RoBERTa tokenizer and model\n",
    "tokenizer = RobertaTokenizer.from_pretrained('roberta-base')\n",
    "model = RobertaModel.from_pretrained('roberta-base')\n",
    "\n",
    "# Function to embed the input text\n",
    "def embed_texts(texts):\n",
    "    # Tokenize the texts\n",
    "    tokens = tokenizer(texts, padding=True, truncation=True, return_tensors='pt', max_length=512)\n",
    "    # Get the embeddings from RoBERTa\n",
    "    with torch.no_grad():\n",
    "        outputs = model(**tokens)\n",
    "    # Take the last hidden state of the [CLS] token as the embeddings\n",
    "    embeddings = outputs.last_hidden_state[:, 0, :]\n",
    "    return embeddings\n",
    "\n",
    "# Apply the embedding function to the input column\n",
    "data['embeddings'] = list(embed_texts(data['input'].tolist()))\n",
    "\n",
    "# Define the path for the output Excel file\n",
    "output_file_path = \"C:/Users/DELL/OneDrive/Desktop/ml project/output.xlsx\"  # Change this to your desired output path\n",
    "\n",
    "# Save the DataFrame with embeddings to an Excel file\n",
    "data.to_excel(output_file_path, index=False)\n",
    "\n",
    "print(f'Embeddings saved to {output_file_path}')\n"
   ]
  },
  {
   "cell_type": "code",
   "execution_count": null,
   "id": "09be8717-8ce6-4aad-b8a2-e72e35848925",
   "metadata": {},
   "outputs": [],
   "source": []
  }
 ],
 "metadata": {
  "kernelspec": {
   "display_name": "Python 3 (ipykernel)",
   "language": "python",
   "name": "python3"
  },
  "language_info": {
   "codemirror_mode": {
    "name": "ipython",
    "version": 3
   },
   "file_extension": ".py",
   "mimetype": "text/x-python",
   "name": "python",
   "nbconvert_exporter": "python",
   "pygments_lexer": "ipython3",
   "version": "3.12.4"
  }
 },
 "nbformat": 4,
 "nbformat_minor": 5
}
