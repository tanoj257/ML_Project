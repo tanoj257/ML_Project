{
  "cells": [
    {
      "cell_type": "code",
      "execution_count": 6,
      "metadata": {
        "colab": {
          "base_uri": "https://localhost:8080/"
        },
        "id": "7hkgKBX74Mfa",
        "outputId": "e6b10ebe-2939-4339-e008-e519d1e97814"
      },
      "outputs": [
        {
          "output_type": "stream",
          "name": "stdout",
          "text": [
            "Requirement already satisfied: catboost in /usr/local/lib/python3.10/dist-packages (1.2.7)\n",
            "Requirement already satisfied: graphviz in /usr/local/lib/python3.10/dist-packages (from catboost) (0.20.3)\n",
            "Requirement already satisfied: matplotlib in /usr/local/lib/python3.10/dist-packages (from catboost) (3.8.0)\n",
            "Requirement already satisfied: numpy<2.0,>=1.16.0 in /usr/local/lib/python3.10/dist-packages (from catboost) (1.26.4)\n",
            "Requirement already satisfied: pandas>=0.24 in /usr/local/lib/python3.10/dist-packages (from catboost) (2.2.2)\n",
            "Requirement already satisfied: scipy in /usr/local/lib/python3.10/dist-packages (from catboost) (1.13.1)\n",
            "Requirement already satisfied: plotly in /usr/local/lib/python3.10/dist-packages (from catboost) (5.24.1)\n",
            "Requirement already satisfied: six in /usr/local/lib/python3.10/dist-packages (from catboost) (1.16.0)\n",
            "Requirement already satisfied: python-dateutil>=2.8.2 in /usr/local/lib/python3.10/dist-packages (from pandas>=0.24->catboost) (2.8.2)\n",
            "Requirement already satisfied: pytz>=2020.1 in /usr/local/lib/python3.10/dist-packages (from pandas>=0.24->catboost) (2024.2)\n",
            "Requirement already satisfied: tzdata>=2022.7 in /usr/local/lib/python3.10/dist-packages (from pandas>=0.24->catboost) (2024.2)\n",
            "Requirement already satisfied: contourpy>=1.0.1 in /usr/local/lib/python3.10/dist-packages (from matplotlib->catboost) (1.3.1)\n",
            "Requirement already satisfied: cycler>=0.10 in /usr/local/lib/python3.10/dist-packages (from matplotlib->catboost) (0.12.1)\n",
            "Requirement already satisfied: fonttools>=4.22.0 in /usr/local/lib/python3.10/dist-packages (from matplotlib->catboost) (4.55.0)\n",
            "Requirement already satisfied: kiwisolver>=1.0.1 in /usr/local/lib/python3.10/dist-packages (from matplotlib->catboost) (1.4.7)\n",
            "Requirement already satisfied: packaging>=20.0 in /usr/local/lib/python3.10/dist-packages (from matplotlib->catboost) (24.2)\n",
            "Requirement already satisfied: pillow>=6.2.0 in /usr/local/lib/python3.10/dist-packages (from matplotlib->catboost) (11.0.0)\n",
            "Requirement already satisfied: pyparsing>=2.3.1 in /usr/local/lib/python3.10/dist-packages (from matplotlib->catboost) (3.2.0)\n",
            "Requirement already satisfied: tenacity>=6.2.0 in /usr/local/lib/python3.10/dist-packages (from plotly->catboost) (9.0.0)\n"
          ]
        }
      ],
      "source": [
        "!pip install catboost\n"
      ]
    },
    {
      "cell_type": "code",
      "execution_count": 7,
      "metadata": {
        "colab": {
          "base_uri": "https://localhost:8080/"
        },
        "id": "5qCdv1wd4jzd",
        "outputId": "f2f9739d-4cd0-4db1-df64-53583f361082"
      },
      "outputs": [
        {
          "output_type": "stream",
          "name": "stdout",
          "text": [
            "Requirement already satisfied: pandas in /usr/local/lib/python3.10/dist-packages (2.2.2)\n",
            "Requirement already satisfied: numpy in /usr/local/lib/python3.10/dist-packages (1.26.4)\n",
            "Requirement already satisfied: scikit-learn in /usr/local/lib/python3.10/dist-packages (1.5.2)\n",
            "Requirement already satisfied: xgboost in /usr/local/lib/python3.10/dist-packages (2.1.2)\n",
            "Requirement already satisfied: catboost in /usr/local/lib/python3.10/dist-packages (1.2.7)\n",
            "Requirement already satisfied: shap in /usr/local/lib/python3.10/dist-packages (0.46.0)\n",
            "Requirement already satisfied: matplotlib in /usr/local/lib/python3.10/dist-packages (3.8.0)\n",
            "Requirement already satisfied: python-dateutil>=2.8.2 in /usr/local/lib/python3.10/dist-packages (from pandas) (2.8.2)\n",
            "Requirement already satisfied: pytz>=2020.1 in /usr/local/lib/python3.10/dist-packages (from pandas) (2024.2)\n",
            "Requirement already satisfied: tzdata>=2022.7 in /usr/local/lib/python3.10/dist-packages (from pandas) (2024.2)\n",
            "Requirement already satisfied: scipy>=1.6.0 in /usr/local/lib/python3.10/dist-packages (from scikit-learn) (1.13.1)\n",
            "Requirement already satisfied: joblib>=1.2.0 in /usr/local/lib/python3.10/dist-packages (from scikit-learn) (1.4.2)\n",
            "Requirement already satisfied: threadpoolctl>=3.1.0 in /usr/local/lib/python3.10/dist-packages (from scikit-learn) (3.5.0)\n",
            "Requirement already satisfied: nvidia-nccl-cu12 in /usr/local/lib/python3.10/dist-packages (from xgboost) (2.23.4)\n",
            "Requirement already satisfied: graphviz in /usr/local/lib/python3.10/dist-packages (from catboost) (0.20.3)\n",
            "Requirement already satisfied: plotly in /usr/local/lib/python3.10/dist-packages (from catboost) (5.24.1)\n",
            "Requirement already satisfied: six in /usr/local/lib/python3.10/dist-packages (from catboost) (1.16.0)\n",
            "Requirement already satisfied: tqdm>=4.27.0 in /usr/local/lib/python3.10/dist-packages (from shap) (4.66.6)\n",
            "Requirement already satisfied: packaging>20.9 in /usr/local/lib/python3.10/dist-packages (from shap) (24.2)\n",
            "Requirement already satisfied: slicer==0.0.8 in /usr/local/lib/python3.10/dist-packages (from shap) (0.0.8)\n",
            "Requirement already satisfied: numba in /usr/local/lib/python3.10/dist-packages (from shap) (0.60.0)\n",
            "Requirement already satisfied: cloudpickle in /usr/local/lib/python3.10/dist-packages (from shap) (3.1.0)\n",
            "Requirement already satisfied: contourpy>=1.0.1 in /usr/local/lib/python3.10/dist-packages (from matplotlib) (1.3.1)\n",
            "Requirement already satisfied: cycler>=0.10 in /usr/local/lib/python3.10/dist-packages (from matplotlib) (0.12.1)\n",
            "Requirement already satisfied: fonttools>=4.22.0 in /usr/local/lib/python3.10/dist-packages (from matplotlib) (4.55.0)\n",
            "Requirement already satisfied: kiwisolver>=1.0.1 in /usr/local/lib/python3.10/dist-packages (from matplotlib) (1.4.7)\n",
            "Requirement already satisfied: pillow>=6.2.0 in /usr/local/lib/python3.10/dist-packages (from matplotlib) (11.0.0)\n",
            "Requirement already satisfied: pyparsing>=2.3.1 in /usr/local/lib/python3.10/dist-packages (from matplotlib) (3.2.0)\n",
            "Requirement already satisfied: llvmlite<0.44,>=0.43.0dev0 in /usr/local/lib/python3.10/dist-packages (from numba->shap) (0.43.0)\n",
            "Requirement already satisfied: tenacity>=6.2.0 in /usr/local/lib/python3.10/dist-packages (from plotly->catboost) (9.0.0)\n"
          ]
        }
      ],
      "source": [
        "pip install pandas numpy scikit-learn xgboost catboost shap matplotlib\n"
      ]
    },
    {
      "cell_type": "code",
      "execution_count": 8,
      "metadata": {
        "colab": {
          "base_uri": "https://localhost:8080/"
        },
        "id": "xT25Uj8V4mlr",
        "outputId": "0d0db8e9-a2cb-4aaa-e95b-e9171de0b4a4"
      },
      "outputs": [
        {
          "output_type": "stream",
          "name": "stdout",
          "text": [
            "Requirement already satisfied: lime in /usr/local/lib/python3.10/dist-packages (0.2.0.1)\n",
            "Requirement already satisfied: matplotlib in /usr/local/lib/python3.10/dist-packages (from lime) (3.8.0)\n",
            "Requirement already satisfied: numpy in /usr/local/lib/python3.10/dist-packages (from lime) (1.26.4)\n",
            "Requirement already satisfied: scipy in /usr/local/lib/python3.10/dist-packages (from lime) (1.13.1)\n",
            "Requirement already satisfied: tqdm in /usr/local/lib/python3.10/dist-packages (from lime) (4.66.6)\n",
            "Requirement already satisfied: scikit-learn>=0.18 in /usr/local/lib/python3.10/dist-packages (from lime) (1.5.2)\n",
            "Requirement already satisfied: scikit-image>=0.12 in /usr/local/lib/python3.10/dist-packages (from lime) (0.24.0)\n",
            "Requirement already satisfied: networkx>=2.8 in /usr/local/lib/python3.10/dist-packages (from scikit-image>=0.12->lime) (3.4.2)\n",
            "Requirement already satisfied: pillow>=9.1 in /usr/local/lib/python3.10/dist-packages (from scikit-image>=0.12->lime) (11.0.0)\n",
            "Requirement already satisfied: imageio>=2.33 in /usr/local/lib/python3.10/dist-packages (from scikit-image>=0.12->lime) (2.36.0)\n",
            "Requirement already satisfied: tifffile>=2022.8.12 in /usr/local/lib/python3.10/dist-packages (from scikit-image>=0.12->lime) (2024.9.20)\n",
            "Requirement already satisfied: packaging>=21 in /usr/local/lib/python3.10/dist-packages (from scikit-image>=0.12->lime) (24.2)\n",
            "Requirement already satisfied: lazy-loader>=0.4 in /usr/local/lib/python3.10/dist-packages (from scikit-image>=0.12->lime) (0.4)\n",
            "Requirement already satisfied: joblib>=1.2.0 in /usr/local/lib/python3.10/dist-packages (from scikit-learn>=0.18->lime) (1.4.2)\n",
            "Requirement already satisfied: threadpoolctl>=3.1.0 in /usr/local/lib/python3.10/dist-packages (from scikit-learn>=0.18->lime) (3.5.0)\n",
            "Requirement already satisfied: contourpy>=1.0.1 in /usr/local/lib/python3.10/dist-packages (from matplotlib->lime) (1.3.1)\n",
            "Requirement already satisfied: cycler>=0.10 in /usr/local/lib/python3.10/dist-packages (from matplotlib->lime) (0.12.1)\n",
            "Requirement already satisfied: fonttools>=4.22.0 in /usr/local/lib/python3.10/dist-packages (from matplotlib->lime) (4.55.0)\n",
            "Requirement already satisfied: kiwisolver>=1.0.1 in /usr/local/lib/python3.10/dist-packages (from matplotlib->lime) (1.4.7)\n",
            "Requirement already satisfied: pyparsing>=2.3.1 in /usr/local/lib/python3.10/dist-packages (from matplotlib->lime) (3.2.0)\n",
            "Requirement already satisfied: python-dateutil>=2.7 in /usr/local/lib/python3.10/dist-packages (from matplotlib->lime) (2.8.2)\n",
            "Requirement already satisfied: six>=1.5 in /usr/local/lib/python3.10/dist-packages (from python-dateutil>=2.7->matplotlib->lime) (1.16.0)\n"
          ]
        }
      ],
      "source": [
        "!pip install lime\n"
      ]
    },
    {
      "cell_type": "code",
      "execution_count": 9,
      "metadata": {
        "id": "8MqUepgv3r2Q"
      },
      "outputs": [],
      "source": [
        "# Import necessary libraries\n",
        "import pandas as pd\n",
        "import numpy as np\n",
        "from sklearn.model_selection import train_test_split, RandomizedSearchCV, cross_val_score\n",
        "from sklearn.metrics import accuracy_score, precision_score, recall_score, f1_score\n",
        "from sklearn.ensemble import RandomForestClassifier, GradientBoostingClassifier, AdaBoostClassifier\n",
        "from sklearn.linear_model import LogisticRegression\n",
        "from sklearn.svm import SVC\n",
        "from sklearn.tree import DecisionTreeClassifier\n",
        "from sklearn.neighbors import KNeighborsClassifier\n",
        "from sklearn.naive_bayes import GaussianNB\n",
        "from xgboost import XGBClassifier\n",
        "from catboost import CatBoostClassifier\n",
        "from sklearn.preprocessing import StandardScaler\n",
        "from imblearn.over_sampling import SMOTE\n",
        "from collections import Counter\n",
        "import warnings\n",
        "\n",
        "# Suppress warnings for clean output\n",
        "warnings.filterwarnings(\"ignore\")\n"
      ]
    },
    {
      "cell_type": "code",
      "source": [
        "# Load dataset\n",
        "file_path = \"/content/training_with_glove embeddings_split.xlsx\"  # Replace with your dataset path\n",
        "data = pd.read_excel(file_path)\n",
        "\n",
        "# Preprocessing\n",
        "X = data.drop([\"input\", \"Class\"], axis=1)  # Drop 'input' and target\n",
        "y = data[\"Class\"]\n",
        "\n",
        "# Standardize features\n",
        "scaler = StandardScaler()\n",
        "X_scaled = scaler.fit_transform(X)\n",
        "\n",
        "# Split into train and test sets\n",
        "X_train, X_test, y_train, y_test = train_test_split(X_scaled, y, test_size=0.2, random_state=42)\n"
      ],
      "metadata": {
        "id": "qs8L72xeY3D3"
      },
      "execution_count": 10,
      "outputs": []
    },
    {
      "cell_type": "code",
      "execution_count": 11,
      "metadata": {
        "id": "g2zbgoHR4oy_",
        "colab": {
          "base_uri": "https://localhost:8080/"
        },
        "outputId": "53728a1b-9e01-434d-8c86-e3f28a10a35c"
      },
      "outputs": [
        {
          "output_type": "stream",
          "name": "stdout",
          "text": [
            "Class distribution after SMOTE: Counter({0: 539, 1: 539, 2: 539})\n"
          ]
        }
      ],
      "source": [
        "# Apply SMOTE to balance the training data\n",
        "smote = SMOTE(random_state=42)\n",
        "X_train_smote, y_train_smote = smote.fit_resample(X_train, y_train)\n",
        "\n",
        "# Check the class distribution after SMOTE\n",
        "balanced_class_distribution = Counter(y_train_smote)\n",
        "print(\"Class distribution after SMOTE:\", balanced_class_distribution)\n"
      ]
    },
    {
      "cell_type": "code",
      "source": [
        "# Logistic Regression Model\n",
        "from sklearn.linear_model import LogisticRegression\n",
        "\n",
        "logistic_regression_model = LogisticRegression(max_iter=1000)\n",
        "\n",
        "logistic_regression_grid = {\n",
        "    \"C\": [0.1, 1, 10],\n",
        "    \"solver\": [\"liblinear\", \"lbfgs\"]\n",
        "}\n"
      ],
      "metadata": {
        "id": "cIvgCRMUZIIU"
      },
      "execution_count": 12,
      "outputs": []
    },
    {
      "cell_type": "code",
      "source": [
        "# Random Forest Model\n",
        "from sklearn.ensemble import RandomForestClassifier\n",
        "\n",
        "random_forest_model = RandomForestClassifier()\n",
        "\n",
        "random_forest_grid = {\n",
        "    \"n_estimators\": [100, 200, 500, 1000],\n",
        "    \"max_depth\": [None, 10, 20, 50],\n",
        "    \"max_features\": [\"sqrt\", \"log2\", None],\n",
        "    \"min_samples_split\": [2, 5, 10]\n",
        "}\n"
      ],
      "metadata": {
        "id": "VQ4wjFoqZnJg"
      },
      "execution_count": 13,
      "outputs": []
    },
    {
      "cell_type": "code",
      "source": [
        "# Support Vector Classifier (SVC) Model\n",
        "from sklearn.svm import SVC\n",
        "\n",
        "svc_model = SVC(probability=True)\n",
        "\n",
        "svc_grid = {\n",
        "    \"C\": [0.1, 1, 10, 100],\n",
        "    \"kernel\": [\"linear\", \"rbf\"],\n",
        "    \"gamma\": [\"scale\", \"auto\"]\n",
        "}\n"
      ],
      "metadata": {
        "id": "bRaml065ZqeV"
      },
      "execution_count": 14,
      "outputs": []
    },
    {
      "cell_type": "code",
      "source": [
        "# K-Nearest Neighbors Model\n",
        "from sklearn.neighbors import KNeighborsClassifier\n",
        "\n",
        "knn_model = KNeighborsClassifier()\n",
        "\n",
        "knn_grid = {\n",
        "    \"n_neighbors\": [3, 5, 7, 10],\n",
        "    \"weights\": [\"uniform\", \"distance\"],\n",
        "    \"p\": [1, 2]\n",
        "}\n"
      ],
      "metadata": {
        "id": "Qs4cPx64Zt0W"
      },
      "execution_count": 15,
      "outputs": []
    },
    {
      "cell_type": "code",
      "source": [
        "# Gradient Boosting Classifier Model\n",
        "from sklearn.ensemble import GradientBoostingClassifier\n",
        "\n",
        "gradient_boosting_model = GradientBoostingClassifier()\n",
        "\n",
        "gradient_boosting_grid = {\n",
        "    \"n_estimators\": [100, 200, 500],\n",
        "    \"learning_rate\": [0.01, 0.05, 0.1],\n",
        "    \"max_depth\": [3, 5, 10],\n",
        "    \"subsample\": [0.8, 1.0]\n",
        "}\n"
      ],
      "metadata": {
        "id": "qWLuJZMoZvlm"
      },
      "execution_count": 16,
      "outputs": []
    },
    {
      "cell_type": "code",
      "source": [
        "# Decision Tree Model\n",
        "from sklearn.tree import DecisionTreeClassifier\n",
        "\n",
        "decision_tree_model = DecisionTreeClassifier()\n",
        "\n",
        "decision_tree_grid = {\n",
        "    \"max_depth\": [None, 10, 20],\n",
        "    \"min_samples_split\": [2, 5]\n",
        "}\n"
      ],
      "metadata": {
        "id": "lzR-I4FlZxmB"
      },
      "execution_count": 17,
      "outputs": []
    },
    {
      "cell_type": "code",
      "source": [
        "# XGBoost Classifier Model\n",
        "from xgboost import XGBClassifier\n",
        "\n",
        "xgboost_model = XGBClassifier(eval_metric=\"logloss\", use_label_encoder=False)\n",
        "\n",
        "xgboost_grid = {\n",
        "    \"n_estimators\": [100, 200, 500],\n",
        "    \"learning_rate\": [0.01, 0.05, 0.1],\n",
        "    \"max_depth\": [3, 5, 10],\n",
        "    \"subsample\": [0.8, 1.0],\n",
        "    \"colsample_bytree\": [0.8, 1.0]\n",
        "}\n"
      ],
      "metadata": {
        "id": "dqQ69DhQZzLo"
      },
      "execution_count": 18,
      "outputs": []
    },
    {
      "cell_type": "code",
      "source": [
        "# AdaBoost Classifier Model\n",
        "from sklearn.ensemble import AdaBoostClassifier\n",
        "\n",
        "adaboost_model = AdaBoostClassifier()\n",
        "\n",
        "adaboost_grid = {\n",
        "    \"n_estimators\": [50, 100],\n",
        "    \"learning_rate\": [0.5, 1]\n",
        "}\n"
      ],
      "metadata": {
        "id": "ez4rs07dZ0ov"
      },
      "execution_count": 19,
      "outputs": []
    },
    {
      "cell_type": "code",
      "source": [
        "# Gaussian Naive Bayes Model\n",
        "from sklearn.naive_bayes import GaussianNB\n",
        "\n",
        "gaussian_nb_model = GaussianNB()\n",
        "\n",
        "gaussian_nb_grid = {}  # No hyperparameters to tune\n"
      ],
      "metadata": {
        "id": "bhidfvNEZ2NW"
      },
      "execution_count": 20,
      "outputs": []
    },
    {
      "cell_type": "code",
      "source": [
        "# CatBoost Classifier Model\n",
        "from catboost import CatBoostClassifier\n",
        "\n",
        "catboost_model = CatBoostClassifier(verbose=0)\n",
        "\n",
        "catboost_grid = {\n",
        "    \"depth\": [4, 6, 8, 10],\n",
        "    \"learning_rate\": [0.01, 0.03, 0.1],\n",
        "    \"iterations\": [100, 200, 500]\n",
        "}\n"
      ],
      "metadata": {
        "id": "OEsrShd7Z3sO"
      },
      "execution_count": 21,
      "outputs": []
    },
    {
      "cell_type": "code",
      "source": [
        "# Store results\n",
        "results = []\n",
        "\n",
        "# Train, optimize, and evaluate each model\n",
        "for model_name, model in models.items():\n",
        "    print(f\"Optimizing {model_name}...\")\n",
        "\n",
        "    # Use extended hyperparameters if available\n",
        "    if extended_param_grids.get(model_name):\n",
        "        random_search = RandomizedSearchCV(\n",
        "            model,\n",
        "            param_distributions=extended_param_grids[model_name],\n",
        "            n_iter=20,  # Number of parameter settings to sample\n",
        "            cv=5,\n",
        "            scoring=\"accuracy\",\n",
        "            random_state=42,\n",
        "            n_jobs=-1,\n",
        "        )\n",
        "        random_search.fit(X_train_smote, y_train_smote)\n",
        "        best_model = random_search.best_estimator_\n",
        "    else:\n",
        "        best_model = model\n",
        "        best_model.fit(X_train_smote, y_train_smote)\n",
        "\n",
        "    # Cross-validation\n",
        "    cv_scores = cross_val_score(best_model, X_train_smote, y_train_smote, cv=5, scoring=\"accuracy\")\n",
        "    train_mean_accuracy = np.mean(cv_scores)\n",
        "    train_std_dev = np.std(cv_scores)\n",
        "\n",
        "    # Test set evaluation\n",
        "    y_pred = best_model.predict(X_test)\n",
        "    test_accuracy = accuracy_score(y_test, y_pred)\n",
        "    precision = precision_score(y_test, y_pred, average=\"weighted\")\n",
        "    recall = recall_score(y_test, y_pred, average=\"weighted\")\n",
        "    f1 = f1_score(y_test, y_pred, average=\"weighted\")\n",
        "\n",
        "    print(f\"Model: {model_name}\")\n",
        "    print(f\"Train Mean Accuracy: {train_mean_accuracy:.4f}, Train Std Dev: {train_std_dev:.4f}\")\n",
        "    print(f\"Test Accuracy: {test_accuracy:.4f}, Precision: {precision:.4f}, Recall: {recall:.4f}, F1 Score: {f1:.4f}\\n\")\n",
        "\n",
        "    # Store results\n",
        "    results.append({\n",
        "        \"Model\": model_name,\n",
        "        \"Train Mean Accuracy\": train_mean_accuracy,\n",
        "        \"Train Std Dev\": train_std_dev,\n",
        "        \"Test Accuracy\": test_accuracy,\n",
        "        \"Precision\": precision,\n",
        "        \"Recall\": recall,\n",
        "        \"F1 Score\": f1,\n",
        "    })\n"
      ],
      "metadata": {
        "colab": {
          "base_uri": "https://localhost:8080/"
        },
        "id": "ExZTgc1nZ5Lo",
        "outputId": "2eb74583-83e8-488d-8e6a-8893569752aa"
      },
      "execution_count": null,
      "outputs": [
        {
          "output_type": "stream",
          "name": "stdout",
          "text": [
            "Optimizing LogisticRegression...\n",
            "Model: LogisticRegression\n",
            "Train Mean Accuracy: 0.5628, Train Std Dev: 0.0518\n",
            "Test Accuracy: 0.4702, Precision: 0.4756, Recall: 0.4702, F1 Score: 0.4719\n",
            "\n",
            "Optimizing RandomForestClassifier...\n",
            "Model: RandomForestClassifier\n",
            "Train Mean Accuracy: 0.5919, Train Std Dev: 0.0579\n",
            "Test Accuracy: 0.4940, Precision: 0.4980, Recall: 0.4940, F1 Score: 0.4952\n",
            "\n",
            "Optimizing SVC...\n",
            "Model: SVC\n",
            "Train Mean Accuracy: 0.6303, Train Std Dev: 0.0689\n",
            "Test Accuracy: 0.5179, Precision: 0.5260, Recall: 0.5179, F1 Score: 0.5199\n",
            "\n",
            "Optimizing KNeighborsClassifier...\n",
            "Model: KNeighborsClassifier\n",
            "Train Mean Accuracy: 0.5808, Train Std Dev: 0.0631\n",
            "Test Accuracy: 0.5149, Precision: 0.5229, Recall: 0.5149, F1 Score: 0.5154\n",
            "\n",
            "Optimizing GradientBoostingClassifier...\n"
          ]
        }
      ]
    },
    {
      "cell_type": "code",
      "source": [
        "# Convert results to a DataFrame for easy comparison\n",
        "results_df = pd.DataFrame(results)\n",
        "\n",
        "# Save results to Excel\n",
        "results_df.to_excel(\"optimized_model_results.xlsx\", index=False)\n",
        "\n",
        "# Print final results\n",
        "print(\"Final Model Evaluation Results:\")\n",
        "print(results_df)\n"
      ],
      "metadata": {
        "id": "MmwnHFQoZ-IL"
      },
      "execution_count": null,
      "outputs": []
    }
  ],
  "metadata": {
    "colab": {
      "machine_shape": "hm",
      "provenance": []
    },
    "kernelspec": {
      "display_name": "Python 3",
      "name": "python3"
    },
    "language_info": {
      "name": "python"
    }
  },
  "nbformat": 4,
  "nbformat_minor": 0
}